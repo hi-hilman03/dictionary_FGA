{
 "cells": [
  {
   "cell_type": "markdown",
   "metadata": {},
   "source": [
    "Functions/Tuples/Dictionaries/Exceptions/Data Processing"
   ]
  },
  {
   "cell_type": "code",
   "execution_count": 5,
   "metadata": {},
   "outputs": [
    {
     "name": "stdout",
     "output_type": "stream",
     "text": [
      "--ini hasil cetak dari function--\n",
      "hasil cetak bukan fucntion\n"
     ]
    }
   ],
   "source": [
    "def firstfunct():\n",
    "    print(\"--ini hasil cetak dari function--\")\n",
    "\n",
    "firstfunct()\n",
    "print(\"hasil cetak bukan function\")"
   ]
  },
  {
   "cell_type": "code",
   "execution_count": 2,
   "metadata": {},
   "outputs": [
    {
     "name": "stdout",
     "output_type": "stream",
     "text": [
      "mulai disini: \n",
      "masukkan angka : \n",
      "1\n",
      "masukkan angka : \n",
      "2\n",
      "masukkan angka : \n",
      "2\n",
      "selesai\n"
     ]
    }
   ],
   "source": [
    "def inangka():\n",
    "    print(\"masukkan angka : \")\n",
    "    a = int(input())\n",
    "    print (a)\n",
    "\n",
    "print(\"mulai disini: \")\n",
    "inangka()\n",
    "inangka()\n",
    "inangka()\n",
    "print(\"selesai\")"
   ]
  },
  {
   "cell_type": "code",
   "execution_count": 5,
   "metadata": {},
   "outputs": [
    {
     "name": "stdout",
     "output_type": "stream",
     "text": [
      "kasih pesan:  hallo\n"
     ]
    }
   ],
   "source": [
    "def pesan(p):\n",
    "    print(\"kasih pesan: \",p)\n",
    "\n",
    "pesan(\"hallo\")"
   ]
  },
  {
   "cell_type": "code",
   "execution_count": 6,
   "metadata": {},
   "outputs": [
    {
     "name": "stdout",
     "output_type": "stream",
     "text": [
      "nama :  hilman hp:  082418689\n"
     ]
    }
   ],
   "source": [
    "def pesan(nm, hp):\n",
    "    print(\"nama : \",nm, \"hp: \",hp)\n",
    "pesan(\"hilman\", \"082418689\")"
   ]
  },
  {
   "cell_type": "code",
   "execution_count": 10,
   "metadata": {},
   "outputs": [
    {
     "name": "stdout",
     "output_type": "stream",
     "text": [
      "hilman 25.5\n"
     ]
    }
   ],
   "source": [
    "def tambahUsia(nm, um):\n",
    "    um = um + 0.5\n",
    "    print(nm, um)\n",
    "\n",
    "tambahUsia(\"hilman\", 25)"
   ]
  },
  {
   "cell_type": "code",
   "execution_count": null,
   "metadata": {},
   "outputs": [],
   "source": []
  }
 ],
 "metadata": {
  "kernelspec": {
   "display_name": "Python 3.10.5 64-bit (windows store)",
   "language": "python",
   "name": "python3"
  },
  "language_info": {
   "codemirror_mode": {
    "name": "ipython",
    "version": 3
   },
   "file_extension": ".py",
   "mimetype": "text/x-python",
   "name": "python",
   "nbconvert_exporter": "python",
   "pygments_lexer": "ipython3",
   "version": "3.10.5"
  },
  "orig_nbformat": 4,
  "vscode": {
   "interpreter": {
    "hash": "65a440aeac0c89e2af7569e0aa53b64434c4b69eb6285e2b0d174d9bca190d54"
   }
  }
 },
 "nbformat": 4,
 "nbformat_minor": 2
}
