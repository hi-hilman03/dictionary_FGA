{
 "cells": [
  {
   "cell_type": "markdown",
   "metadata": {},
   "source": [
    "mencoba print pertama kali"
   ]
  },
  {
   "cell_type": "code",
   "execution_count": 2,
   "metadata": {},
   "outputs": [
    {
     "name": "stdout",
     "output_type": "stream",
     "text": [
      "hello world\n",
      "hilman\n"
     ]
    }
   ],
   "source": [
    "print(\"hello world\")\n",
    "print(input(\"masukkan nama kalian : \"))"
   ]
  },
  {
   "cell_type": "markdown",
   "metadata": {},
   "source": [
    "IF statement\n"
   ]
  },
  {
   "cell_type": "code",
   "execution_count": 8,
   "metadata": {},
   "outputs": [
    {
     "name": "stdout",
     "output_type": "stream",
     "text": [
      "no\n"
     ]
    }
   ],
   "source": [
    "a=6\n",
    "b=7\n",
    "\n",
    "if a==b:\n",
    "    print(\"oke\")\n",
    "else:\n",
    "    print(\"no\")"
   ]
  },
  {
   "cell_type": "markdown",
   "metadata": {},
   "source": [
    "IF bilangan genap ganjil"
   ]
  },
  {
   "cell_type": "code",
   "execution_count": 10,
   "metadata": {},
   "outputs": [
    {
     "name": "stdout",
     "output_type": "stream",
     "text": [
      "bilangan kamu ganjil!\n"
     ]
    }
   ],
   "source": [
    "bil = int(input(\"masukkan angka: \"))\n",
    "\n",
    "if (bil%2 == 0):\n",
    "    print(\"bilangan kamu genap!\")\n",
    "else:\n",
    "    print(\"bilangan kamu ganjil!\")"
   ]
  },
  {
   "cell_type": "markdown",
   "metadata": {},
   "source": [
    "penentuan kuadran"
   ]
  },
  {
   "cell_type": "code",
   "execution_count": 13,
   "metadata": {},
   "outputs": [
    {
     "name": "stdout",
     "output_type": "stream",
     "text": [
      "titik berada di kuadran IV\n"
     ]
    }
   ],
   "source": [
    "print(\"menentukan kuadran berdaasarkan titik koordinat\")\n",
    "x = int(input(\"masukan nilai X: \"))\n",
    "y = int(input(\"masukan nilai Y: \"))\n",
    "\n",
    "if (x>0 and y>0):\n",
    "    print(\"titik berada di kuadran I\")\n",
    "elif (x<0 and y>0):\n",
    "    print(\"titik berada di kuadran II\")\n",
    "elif (x<0 and y<0):\n",
    "    print(\"titik berada di kuadran III\")\n",
    "elif (x>0 and y<0):\n",
    "    print(\"titik berada di kuadran IV\")\n",
    "else:\n",
    "    pass"
   ]
  },
  {
   "cell_type": "markdown",
   "metadata": {},
   "source": [
    "mencari bil terbesar"
   ]
  },
  {
   "cell_type": "code",
   "execution_count": 16,
   "metadata": {},
   "outputs": [
    {
     "name": "stdout",
     "output_type": "stream",
     "text": [
      "nilai terbesar adalah  6\n"
     ]
    }
   ],
   "source": [
    "a = int(input(\"masukan nilai a: \"))\n",
    "b = int(input(\"masukan nilai b: \"))\n",
    "c = int(input(\"masukan nilai c: \"))\n",
    "\n",
    "largest = a\n",
    "\n",
    "if(b>largest):\n",
    "    largest=b\n",
    "if(c>largest):\n",
    "    largest=c\n",
    "print(\"nilai terbesar adalah \", +largest)"
   ]
  },
  {
   "cell_type": "markdown",
   "metadata": {},
   "source": [
    "LAB 3.1.1.10"
   ]
  },
  {
   "cell_type": "code",
   "execution_count": 21,
   "metadata": {},
   "outputs": [
    {
     "name": "stdout",
     "output_type": "stream",
     "text": [
      "yah bukan tanaman terbaik\n"
     ]
    }
   ],
   "source": [
    "tum = input(\"masukkan nama tumbuhan: \")\n",
    "\n",
    "if(tum == \"Kembangpasir\"):\n",
    "    print(\"yak itu dia tanaman terbaik!\")\n",
    "elif(tum == \"kembangpasir\"):\n",
    "    print(\"yah bukan tanaman terbaik\")\n",
    "else:\n",
    "    print(\"belum masukin nama tumbuhan\")"
   ]
  },
  {
   "cell_type": "markdown",
   "metadata": {},
   "source": [
    "cek kabisat"
   ]
  },
  {
   "cell_type": "code",
   "execution_count": 25,
   "metadata": {},
   "outputs": [
    {
     "name": "stdout",
     "output_type": "stream",
     "text": [
      "gatau tahun apa\n"
     ]
    }
   ],
   "source": [
    "tahun = int(input(\"masukan tahun\"))\n",
    "\n",
    "if(tahun<1582):\n",
    "    print(\"gatau tahun apa\")\n",
    "else:\n",
    "    if(tahun%4 == 0):\n",
    "        print(\"tahun kabisat\")\n",
    "    elif(tahun%4 !=0):\n",
    "        print(\"tahun biasa\")\n"
   ]
  },
  {
   "cell_type": "markdown",
   "metadata": {},
   "source": [
    "perulangan"
   ]
  },
  {
   "cell_type": "code",
   "execution_count": 26,
   "metadata": {},
   "outputs": [
    {
     "name": "stdout",
     "output_type": "stream",
     "text": [
      "1\n",
      "4\n",
      "9\n",
      "16\n",
      "25\n",
      "36\n",
      "49\n",
      "64\n",
      "81\n"
     ]
    }
   ],
   "source": [
    "i=1\n",
    "\n",
    "while i<10:\n",
    "    print(i**2)\n",
    "    i=i+1"
   ]
  },
  {
   "cell_type": "markdown",
   "metadata": {},
   "source": [
    "module 2"
   ]
  },
  {
   "cell_type": "code",
   "execution_count": 13,
   "metadata": {},
   "outputs": [
    {
     "name": "stdout",
     "output_type": "stream",
     "text": [
      "0\n"
     ]
    }
   ],
   "source": [
    "x = 1//2*3\n",
    "\n",
    "print(x)"
   ]
  }
 ],
 "metadata": {
  "kernelspec": {
   "display_name": "Python 3.10.5 64-bit (windows store)",
   "language": "python",
   "name": "python3"
  },
  "language_info": {
   "codemirror_mode": {
    "name": "ipython",
    "version": 3
   },
   "file_extension": ".py",
   "mimetype": "text/x-python",
   "name": "python",
   "nbconvert_exporter": "python",
   "pygments_lexer": "ipython3",
   "version": "3.10.5"
  },
  "orig_nbformat": 4,
  "vscode": {
   "interpreter": {
    "hash": "65a440aeac0c89e2af7569e0aa53b64434c4b69eb6285e2b0d174d9bca190d54"
   }
  }
 },
 "nbformat": 4,
 "nbformat_minor": 2
}
