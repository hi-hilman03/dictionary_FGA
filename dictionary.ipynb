{
 "cells": [
  {
   "cell_type": "markdown",
   "metadata": {},
   "source": [
    "Bentuk Dictionary"
   ]
  },
  {
   "cell_type": "code",
   "execution_count": 1,
   "metadata": {},
   "outputs": [],
   "source": [
    "#bentuk pertama\n",
    "buku = {\n",
    "    \"judul\" : \"Naruto\",\n",
    "    \"penulis\" : \"Masashi Kishimoto\"\n",
    "}\n",
    "\n",
    "#bentuk kedua pakai function\n",
    "bukulagi = dict(\n",
    "    judul = \"Naruto\",\n",
    "    penulis = \"Masashi Kishimoto\"\n",
    ")\n",
    "\n",
    "# jika ingin menampilkan atribut pada dictionary\n",
    "# print(buku)"
   ]
  },
  {
   "cell_type": "markdown",
   "metadata": {},
   "source": [
    "Mengakses Item"
   ]
  },
  {
   "cell_type": "code",
   "execution_count": 4,
   "metadata": {},
   "outputs": [
    {
     "name": "stdout",
     "output_type": "stream",
     "text": [
      "Judul: Belajar Dictionary Sesi 8\n",
      "Tanggal: 26 Juli 2022\n",
      "---------------\n",
      "Facebook share: 0\n",
      "Twitter share: 2\n",
      "---------------\n",
      "kategori pelajaran :  Python\n"
     ]
    }
   ],
   "source": [
    "pertemuan_hari_ini = {\n",
    "  \"judul\": \"Belajar Dictionary Sesi 8\",\n",
    "  \"tanggal\": \"26 Juli 2022\",\n",
    "  \"kategori\": [\n",
    "    \"Python\", \"Python Dasar\"\n",
    "  ],\n",
    "  \"page_views\": 10,\n",
    "  \"published\": True,\n",
    "  \"share_count\": {\n",
    "    \"facebook\": 0,\n",
    "    \"twitter\": 2\n",
    "  }\n",
    "}\n",
    "\n",
    "print('Judul:', pertemuan_hari_ini.get('judul'))\n",
    "# atau\n",
    "print('Tanggal:', pertemuan_hari_ini['tanggal'])\n",
    "\n",
    "print('---------------')\n",
    "#dictionary bertingkat\n",
    "print('Facebook share:', pertemuan_hari_ini.get('share_count').get('facebook'))\n",
    "#atau\n",
    "print('Twitter share:', pertemuan_hari_ini['share_count']['twitter'])\n",
    "\n",
    "print('---------------')\n",
    "# akses list dalam dictionary\n",
    "print('kategori pelajaran : ', pertemuan_hari_ini[\"kategori\"][0])"
   ]
  },
  {
   "cell_type": "code",
   "execution_count": 9,
   "metadata": {},
   "outputs": [
    {
     "name": "stdout",
     "output_type": "stream",
     "text": [
      "Instagram share: 0\n"
     ]
    }
   ],
   "source": [
    "# KELEBIHAN MENGGUNAKAN FUNGSI get\n",
    "# bisa mengatur nilai default jika key pada dictionary yang kita panggil tidak ditemukan.\n",
    "\n",
    "# ini error\n",
    "print('Instagram share:', share_count['instagram'])\n",
    "# sedangkan ini tidak error\n",
    "print('Instagram share:', pertemuan_hari_ini.get('share_count').get('instagram', 0))"
   ]
  },
  {
   "cell_type": "code",
   "execution_count": 11,
   "metadata": {},
   "outputs": [
    {
     "name": "stdout",
     "output_type": "stream",
     "text": [
      "januari -> 31\n",
      "februari -> 28\n",
      "maret -> 31\n"
     ]
    }
   ],
   "source": [
    "# menampilkan semua isi dictionary\n",
    "jmlhari = {\n",
    "    'januari' : 31,\n",
    "    'februari' : 28,\n",
    "    'maret' : 31\n",
    "}\n",
    "\n",
    "for key in jmlhari:\n",
    "    print(key, '->', jmlhari[key])\n",
    "# print('---------------')\n",
    "\n",
    "#cara lain\n",
    "# for jmlhari, nilai in jmlhari.items():\n",
    "#   print(jmlhari, '->', nilai)"
   ]
  },
  {
   "cell_type": "markdown",
   "metadata": {},
   "source": [
    "Mengubah/Modifying Item"
   ]
  },
  {
   "cell_type": "code",
   "execution_count": 12,
   "metadata": {},
   "outputs": [
    {
     "name": "stdout",
     "output_type": "stream",
     "text": [
      "nama sebelum diubah :  Hilman Ihsani\n",
      "nama setelah diubah:  Ihsani Hilman\n"
     ]
    }
   ],
   "source": [
    "mhs = {\n",
    "    'nama' : 'Hilman Ihsani',\n",
    "    'asal' : 'Indonesia'\n",
    "}\n",
    "\n",
    "print(\"nama sebelum diubah : \", mhs.get('nama'))\n",
    "mhs['nama'] = \"Ihsani Hilman\"\n",
    "print(\"nama setelah diubah: \", mhs.get('nama'))"
   ]
  },
  {
   "cell_type": "markdown",
   "metadata": {},
   "source": [
    "Menambahkan/Adding Item"
   ]
  },
  {
   "cell_type": "code",
   "execution_count": 14,
   "metadata": {},
   "outputs": [
    {
     "name": "stdout",
     "output_type": "stream",
     "text": [
      "Hobi: None\n",
      "Hobi dari Hilman Ihsani adalah Memukul\n"
     ]
    }
   ],
   "source": [
    "mahasiswa = {\n",
    "  'nama': 'Hilman Ihsani',\n",
    "  'asal': 'Indonesia'\n",
    "}\n",
    "\n",
    "# output None\n",
    "print('Hobi:', mahasiswa.get('hobi'))\n",
    "\n",
    "# tambah data\n",
    "mahasiswa['hobi'] = 'Memukul'\n",
    "# print ulang\n",
    "print('Hobi dari {} adalah {}'.format(\n",
    "  mahasiswa.get('nama'),\n",
    "  mahasiswa.get('hobi')\n",
    "))"
   ]
  },
  {
   "cell_type": "markdown",
   "metadata": {},
   "source": [
    "Hapus Item"
   ]
  },
  {
   "cell_type": "code",
   "execution_count": 17,
   "metadata": {},
   "outputs": [
    {
     "name": "stdout",
     "output_type": "stream",
     "text": [
      "Jalan :  None\n",
      "Kecamatan :  None\n",
      "Kota :  semarang\n"
     ]
    }
   ],
   "source": [
    "alamat = {\n",
    "    'jalan' : 'flamboyan',\n",
    "    'kecamatan' : 'tembalang',\n",
    "    'kota' : 'semarang'\n",
    "}\n",
    "\n",
    "#fungsi pop\n",
    "alamat.pop('jalan')\n",
    "\n",
    "#statement del\n",
    "del alamat['kecamatan']\n",
    "\n",
    "#cek\n",
    "print(\"Jalan : \", alamat.get('jalan'))\n",
    "print(\"Kecamatan : \", alamat.get('kecamatan'))\n",
    "print(\"Kota : \", alamat.get('kota'))"
   ]
  },
  {
   "cell_type": "code",
   "execution_count": 19,
   "metadata": {},
   "outputs": [
    {
     "name": "stdout",
     "output_type": "stream",
     "text": [
      "isi pesan:  None\n",
      "isi pesan:  Sini kemari!!!\n"
     ]
    }
   ],
   "source": [
    "# kelebihan fungsi pop\n",
    "#  bisa mendapatkan nilai dari data yang telah dihapus.\n",
    "\n",
    "pesan_singkat = {\n",
    "  \"isi\": \"Sini kemari!!!\"\n",
    "}\n",
    "\n",
    "isi_pesan = pesan_singkat.pop('isi')\n",
    "\n",
    "# ouput: None\n",
    "print('isi pesan: ', pesan_singkat.get('isi'))\n",
    "\n",
    "# akses dari hasil yang telah disimpan di variabel\n",
    "print('isi pesan: ', isi_pesan)"
   ]
  },
  {
   "cell_type": "markdown",
   "metadata": {},
   "source": [
    "Menghitung jumlah Key"
   ]
  },
  {
   "cell_type": "code",
   "execution_count": 20,
   "metadata": {},
   "outputs": [
    {
     "name": "stdout",
     "output_type": "stream",
     "text": [
      "jumlah atribut pada variabel mobil :  3\n"
     ]
    }
   ],
   "source": [
    "mobil={\n",
    "    'merek' : 'toyota',\n",
    "    'tahun' : 2018,\n",
    "    'jenis' : 'sedan'\n",
    "}\n",
    "print('jumlah atribut pada variabel mobil : ', len(mobil))"
   ]
  }
 ],
 "metadata": {
  "kernelspec": {
   "display_name": "Python 3.10.5 64-bit (windows store)",
   "language": "python",
   "name": "python3"
  },
  "language_info": {
   "codemirror_mode": {
    "name": "ipython",
    "version": 3
   },
   "file_extension": ".py",
   "mimetype": "text/x-python",
   "name": "python",
   "nbconvert_exporter": "python",
   "pygments_lexer": "ipython3",
   "version": "3.10.5"
  },
  "orig_nbformat": 4,
  "vscode": {
   "interpreter": {
    "hash": "65a440aeac0c89e2af7569e0aa53b64434c4b69eb6285e2b0d174d9bca190d54"
   }
  }
 },
 "nbformat": 4,
 "nbformat_minor": 2
}
